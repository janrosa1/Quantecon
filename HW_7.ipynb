{
 "cells": [
  {
   "cell_type": "code",
   "execution_count": 1,
   "metadata": {},
   "outputs": [
    {
     "name": "stderr",
     "output_type": "stream",
     "text": [
      "┌ Info: Precompiling StatsModels [3eaba693-59b7-5ba5-a881-562e759f1c8d]\n",
      "└ @ Base loading.jl:1278\n",
      "┌ Info: Precompiling DataFrames [a93c6f00-e57d-5684-b7b6-d8193f3e46c0]\n",
      "└ @ Base loading.jl:1278\n",
      "┌ Info: Precompiling GMMInference [bac0df68-cab7-482a-aa4b-d3925df9b168]\n",
      "└ @ Base loading.jl:1278\n",
      "┌ Info: Precompiling Ipopt [b6b21f68-93f8-5de0-b562-5493be1d77c9]\n",
      "└ @ Base loading.jl:1278\n"
     ]
    }
   ],
   "source": [
    "using StatsModels,DataFrames,GMMInference, Distributions, JuMP, Ipopt, LinearAlgebra,NLPModels, Distributions, Optim, ForwardDiff, ECOS "
   ]
  },
  {
   "cell_type": "markdown",
   "metadata": {},
   "source": [
    "# HW 7, Jan Rosa\n",
    "Here I write a simple interface for gmm model IVLogitShare, using the interface from StatsModels. Unfortunately, the interface for now works only on dataframes (StatModels operate only on this type) and with for one of the implemented models IVLogitShare"
   ]
  },
  {
   "cell_type": "code",
   "execution_count": 7,
   "metadata": {},
   "outputs": [
    {
     "data": {
      "text/plain": [
       "gmm (generic function with 1 method)"
      ]
     },
     "execution_count": 7,
     "metadata": {},
     "output_type": "execute_result"
    }
   ],
   "source": [
    "\n",
    "mutable struct ivModelFrame\n",
    "    #structure for the iv, ModelFrame = class from StatsModels\n",
    "    first_stage::ModelFrame\n",
    "    second_stage::ModelFrame\n",
    "end\n",
    "\n",
    "function ivModelFrame(f1::FormulaTerm, f2::FormulaTerm,data::DataFrame)\n",
    "    #declaration of ivModelFrame using two formulas for each stage and one dataframe \n",
    "    first_stage = ModelFrame(f1, data)\n",
    "    second_stage = ModelFrame(f2, data)\n",
    "    return(ivModelFrame(first_stage,second_stage ))\n",
    "end \n",
    "\n",
    "\n",
    "#These function was designed to be something similar to lm in GLS\n",
    "function gmm(formula1, formula2,data; model = \"ivlogit\") #I only wrote implementation for IVLogitShare \"ivlogit\" here\n",
    "    \n",
    "    model_frame = ivModelFrame(formula1, formula2,data) \n",
    "    first_stage = model_frame.first_stage\n",
    "    \n",
    "    X = ModelMatrix(model_frame.first_stage) #Here I use function form StatModels which was very useful with building matrix of variables of rhs of regression equation, \n",
    "                                                #with constants, interactions etc \n",
    "    Z = ModelMatrix(model_frame.second_stage)\n",
    "    \n",
    "    x = convert(Matrix{Float64}, X.m) #convert matrix of data to the type used in GMM \n",
    "    z = convert(Matrix{Float64}, Z.m)\n",
    "    \n",
    "    dict = first_stage.schema #take y using dictionary \n",
    "    Y = string(get(dict,formula1.lhs,  nothing)) \n",
    "    y_indf = df[ ( names(df) .== Y ) ] \n",
    "    \n",
    "    y = convert(Matrix{Float64}, y_indf)  #convert y to the datatype used in GMM \n",
    "    y = vec(y)\n",
    "    \n",
    "    #define model\n",
    "    if(model == \"ivlogit\")\n",
    "        gmm_model = IVLogitShare(x,y,z)\n",
    "    else\n",
    "        gmm_model= nothing\n",
    "    end\n",
    "    \n",
    "    #Find coefficients as in the lm function in GLS\n",
    "    \n",
    "    n = number_observations(gmm_model)\n",
    "    optim_model = gel_jump_problem(gmm_model)\n",
    "    \n",
    "    set_optimizer(optim_model, with_optimizer(Ipopt.Optimizer, print_level=5))\n",
    "    set_start_value.(optim_model[:θ], 0.0)\n",
    "    set_start_value.(optim_model[:p], 1/n)\n",
    "    optimize!(optim_model)\n",
    "    \n",
    "    @show value.(optim_model[:θ])\n",
    "    @show value.(optim_model[:p][1:10])\n",
    "    \n",
    "    return(θ = value.(optim_model[:θ]) )\n",
    "end"
   ]
  },
  {
   "cell_type": "code",
   "execution_count": 8,
   "metadata": {},
   "outputs": [
    {
     "name": "stdout",
     "output_type": "stream",
     "text": [
      "This is Ipopt version 3.13.2, running with linear solver mumps.\n",
      "NOTE: Other linear solvers might be more efficient (see Ipopt documentation).\n",
      "\n",
      "Number of nonzeros in equality constraint Jacobian...:     2900\n",
      "Number of nonzeros in inequality constraint Jacobian.:        0\n",
      "Number of nonzeros in Lagrangian Hessian.............:     1300\n",
      "\n",
      "Total number of variables............................:      103\n",
      "                     variables with only lower bounds:        0\n",
      "                variables with lower and upper bounds:      100\n",
      "                     variables with only upper bounds:        0\n",
      "Total number of equality constraints.................:        5\n",
      "Total number of inequality constraints...............:        0\n",
      "        inequality constraints with only lower bounds:        0\n",
      "   inequality constraints with lower and upper bounds:        0\n",
      "        inequality constraints with only upper bounds:        0\n",
      "\n",
      "iter    objective    inf_pr   inf_du lg(mu)  ||d||  lg(rg) alpha_du alpha_pr  ls\n",
      "   0  4.6051702e+02 1.71e-01 5.68e-14  -1.0 0.00e+00    -  0.00e+00 0.00e+00   0\n",
      "   1  4.6156714e+02 6.41e-03 4.29e+01  -1.7 5.37e-01    -  1.00e+00 1.00e+00h  1\n",
      "   2  4.6122055e+02 1.64e-02 4.51e+01  -1.7 5.56e-01    -  1.00e+00 1.00e+00F  1\n",
      "   3  4.6125077e+02 1.91e-04 6.87e+00  -1.7 1.47e-02    -  1.00e+00 1.00e+00h  1\n",
      "   4  4.6124831e+02 2.66e-04 5.71e-01  -1.7 5.31e-02    -  1.00e+00 1.00e+00h  1\n",
      "   5  4.6124681e+02 2.09e-08 2.53e-03  -1.7 2.16e-04    -  1.00e+00 1.00e+00h  1\n",
      "   6  4.6124681e+02 1.04e-11 8.17e-06  -3.8 7.85e-06    -  1.00e+00 1.00e+00h  1\n",
      "   7  4.6124681e+02 4.16e-15 1.20e-09  -5.7 1.56e-07    -  1.00e+00 1.00e+00h  1\n",
      "   8  4.6124681e+02 4.44e-16 7.24e-14  -8.6 3.91e-11    -  1.00e+00 1.00e+00h  1\n",
      "\n",
      "Number of Iterations....: 8\n",
      "\n",
      "                                   (scaled)                 (unscaled)\n",
      "Objective...............:   4.6124681015264565e+02    4.6124681015264565e+02\n",
      "Dual infeasibility......:   7.2366861030305463e-14    7.2366861030305463e-14\n",
      "Constraint violation....:   4.4408920985006262e-16    4.4408920985006262e-16\n",
      "Complementarity.........:   2.5059035829875456e-09    2.5059035829875456e-09\n",
      "Overall NLP error.......:   2.5059035829875456e-09    2.5059035829875456e-09\n",
      "\n",
      "\n",
      "Number of objective function evaluations             = 10\n",
      "Number of objective gradient evaluations             = 9\n",
      "Number of equality constraint evaluations            = 10\n",
      "Number of inequality constraint evaluations          = 0\n",
      "Number of equality constraint Jacobian evaluations   = 9\n",
      "Number of inequality constraint Jacobian evaluations = 0\n",
      "Number of Lagrangian Hessian evaluations             = 8\n",
      "Total CPU secs in IPOPT (w/o function evaluations)   =      0.008\n",
      "Total CPU secs in NLP function evaluations           =      0.000\n",
      "\n",
      "EXIT: Optimal Solution Found.\n",
      "value.(optim_model[:θ]) = [0.11790491142755562, -0.25627285419630635, -0.7048990034040284]\n",
      "value.((optim_model[:p])[1:10]) = [0.010257323573331836, 0.010029482459932218, 0.010699044041744753, 0.008611844790230444, 0.010174763098918661, 0.010055838841833531, 0.010349930972273326, 0.011982773751872044, 0.012889797884329104, 0.007500719897763543]\n"
     ]
    },
    {
     "data": {
      "text/plain": [
       "3-element Array{Float64,1}:\n",
       "  0.11790491142755562\n",
       " -0.25627285419630635\n",
       " -0.7048990034040284"
      ]
     },
     "execution_count": 8,
     "metadata": {},
     "output_type": "execute_result"
    }
   ],
   "source": [
    "#Qucik and random test to see if interface works\n",
    "\n",
    "df = DataFrame(y = rand(100), a = rand(100), b = randn(100), c = randn(100), d = randn(100))\n",
    "Istage = @formula(y ~a+c)\n",
    "IIstage = @formula(c ~a+b+d)\n",
    "\n",
    "Model_with_interface = gmm(Istage,IIstage,df)\n",
    "\n"
   ]
  },
  {
   "cell_type": "code",
   "execution_count": null,
   "metadata": {},
   "outputs": [],
   "source": []
  }
 ],
 "metadata": {
  "kernelspec": {
   "display_name": "Julia 1.5.0",
   "language": "julia",
   "name": "julia-1.5"
  },
  "language_info": {
   "file_extension": ".jl",
   "mimetype": "application/julia",
   "name": "julia",
   "version": "1.5.0"
  }
 },
 "nbformat": 4,
 "nbformat_minor": 4
}
